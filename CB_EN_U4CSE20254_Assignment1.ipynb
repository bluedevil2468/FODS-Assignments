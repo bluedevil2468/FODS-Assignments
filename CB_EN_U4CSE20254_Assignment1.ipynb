{
  "nbformat": 4,
  "nbformat_minor": 0,
  "metadata": {
    "colab": {
      "provenance": [],
      "collapsed_sections": [
        "US85059ntoHD",
        "03Ms-64xtsfF",
        "7g6JXL30uSK1",
        "pkqoUHkiwuPF",
        "N558Oi_pzCYJ",
        "orE9qaZlbiCA",
        "-Y2XPgIBdKwy",
        "QJEUIQOZeF-_",
        "S5CHBQs5f2Ia",
        "vf59_iUGgZhL",
        "6P7Gz69YirNS",
        "brFJlzhXjHpL",
        "WaZiudWCkcSO",
        "Jdj11FaSloXF",
        "s8QKCnRvmFgB",
        "gcrldT1smP60"
      ]
    },
    "kernelspec": {
      "name": "python3",
      "display_name": "Python 3"
    },
    "language_info": {
      "name": "python"
    }
  },
  "cells": [
    {
      "cell_type": "markdown",
      "source": [
        "# Q1"
      ],
      "metadata": {
        "id": "US85059ntoHD"
      }
    },
    {
      "cell_type": "code",
      "execution_count": null,
      "metadata": {
        "colab": {
          "base_uri": "https://localhost:8080/"
        },
        "id": "HZOrbI6rsvwW",
        "outputId": "b3a3a70e-7f13-464b-ffa1-d7d3d4546c74"
      },
      "outputs": [
        {
          "output_type": "stream",
          "name": "stdout",
          "text": [
            "<class 'list'>\n",
            "('sam', '45', 888, 5.4)\n",
            "<class 'tuple'>\n"
          ]
        }
      ],
      "source": [
        "a = [\"sam\",\"45\",888,5.4]\n",
        "print(type(a))\n",
        "a = tuple(a)\n",
        "print(a)\n",
        "print(type(a))"
      ]
    },
    {
      "cell_type": "markdown",
      "source": [
        "# Q2"
      ],
      "metadata": {
        "id": "03Ms-64xtsfF"
      }
    },
    {
      "cell_type": "code",
      "source": [
        "a = {\"Roll_No\":\"CB.EN.U4CSE20254\",\"Last_Name\":\"Adithya\",\"First_Name\":\"Sanjay\",\"DOB\":\"05/03/2003\"}\n",
        "print(a)\n",
        "print(type(a))\n",
        "print(a.keys())\n",
        "print(a.values())"
      ],
      "metadata": {
        "colab": {
          "base_uri": "https://localhost:8080/"
        },
        "id": "lCasIoJVtuS0",
        "outputId": "ec46eb39-a9bd-41f3-d06c-d751425b833b"
      },
      "execution_count": null,
      "outputs": [
        {
          "output_type": "stream",
          "name": "stdout",
          "text": [
            "{'Roll_No': 'CB.EN.U4CSE20254', 'Last_Name': 'Adithya', 'First_Name': 'Sanjay', 'DOB': '05/03/2003'}\n",
            "<class 'dict'>\n",
            "dict_keys(['Roll_No', 'Last_Name', 'First_Name', 'DOB'])\n",
            "dict_values(['CB.EN.U4CSE20254', 'Adithya', 'Sanjay', '05/03/2003'])\n"
          ]
        }
      ]
    },
    {
      "cell_type": "markdown",
      "source": [
        "# Q3"
      ],
      "metadata": {
        "id": "7g6JXL30uSK1"
      }
    },
    {
      "cell_type": "code",
      "source": [
        "import numpy as np\n",
        "\n",
        "np.random.seed()\n",
        "print(np.random.rand(4,3))"
      ],
      "metadata": {
        "colab": {
          "base_uri": "https://localhost:8080/"
        },
        "id": "qwXERJ3RuTkm",
        "outputId": "871f87ad-0a21-4856-9414-99032aaaebda"
      },
      "execution_count": null,
      "outputs": [
        {
          "output_type": "stream",
          "name": "stdout",
          "text": [
            "[[0.53684034 0.94824821 0.67972089]\n",
            " [0.64484132 0.2928819  0.76143065]\n",
            " [0.76343158 0.08080466 0.42783726]\n",
            " [0.62244634 0.75271652 0.63815186]]\n"
          ]
        }
      ]
    },
    {
      "cell_type": "markdown",
      "source": [
        "# Q4"
      ],
      "metadata": {
        "id": "pkqoUHkiwuPF"
      }
    },
    {
      "cell_type": "code",
      "source": [
        "import numpy as np\n",
        "\n",
        "print(np.random.uniform(1,2))\n",
        "print(abs(-1234))"
      ],
      "metadata": {
        "colab": {
          "base_uri": "https://localhost:8080/"
        },
        "id": "gzxG8cN8wvu5",
        "outputId": "aaf7e02f-81b4-4d4e-af17-57e524ca966c"
      },
      "execution_count": null,
      "outputs": [
        {
          "output_type": "stream",
          "name": "stdout",
          "text": [
            "1.5831454270569365\n",
            "1234\n"
          ]
        }
      ]
    },
    {
      "cell_type": "markdown",
      "source": [
        "# Q5"
      ],
      "metadata": {
        "id": "N558Oi_pzCYJ"
      }
    },
    {
      "cell_type": "code",
      "source": [
        "import numpy as np\n",
        "def return_rand():\n",
        "  return np.random.randint(10,90)\n",
        "\n",
        "return_rand()\n"
      ],
      "metadata": {
        "colab": {
          "base_uri": "https://localhost:8080/"
        },
        "id": "RoFTxaKfzDx0",
        "outputId": "cb13a970-94ef-4d79-8ca7-3e8cf6afaa1e"
      },
      "execution_count": null,
      "outputs": [
        {
          "output_type": "execute_result",
          "data": {
            "text/plain": [
              "19"
            ]
          },
          "metadata": {},
          "execution_count": 12
        }
      ]
    },
    {
      "cell_type": "markdown",
      "source": [
        "# Q6"
      ],
      "metadata": {
        "id": "orE9qaZlbiCA"
      }
    },
    {
      "cell_type": "code",
      "source": [
        "import numpy as np\n",
        "\n",
        "a = [1,2,3,4,5]\n",
        "\n",
        "print(a)\n",
        "np.random.shuffle(a)\n",
        "print(\"After Shuffling: \",a)\n",
        "\n",
        "\n",
        "print(a[:3])\n",
        "\n",
        "print(a[3])\n"
      ],
      "metadata": {
        "colab": {
          "base_uri": "https://localhost:8080/"
        },
        "id": "7wDIV45xbj8V",
        "outputId": "9b9d4bde-8d11-4fe7-b2dc-5d418eb5f377"
      },
      "execution_count": null,
      "outputs": [
        {
          "output_type": "stream",
          "name": "stdout",
          "text": [
            "[1, 2, 3, 4, 5]\n",
            "After Shuffling:  [1, 5, 3, 2, 4]\n",
            "[1, 5, 3]\n",
            "2\n"
          ]
        }
      ]
    },
    {
      "cell_type": "markdown",
      "source": [
        "# Q7"
      ],
      "metadata": {
        "id": "-Y2XPgIBdKwy"
      }
    },
    {
      "cell_type": "code",
      "source": [
        "f = open(\"marvel.txt\",\"r+\")\n",
        "f.write(\"Wakanda Forever!!!!!!!! SIUUUUUUUUUUUUUUUUUUUUUUUUUUU!!!!\")\n",
        "f.close()\n",
        "\n",
        "f = open(\"marvel.txt\",\"r\")\n",
        "print(f.read())\n",
        "f.close()"
      ],
      "metadata": {
        "colab": {
          "base_uri": "https://localhost:8080/",
          "height": 235
        },
        "id": "4Esqz683dNLC",
        "outputId": "04dc1d3b-d8e5-4fe1-a4c9-bf235a9e4693"
      },
      "execution_count": null,
      "outputs": [
        {
          "output_type": "error",
          "ename": "FileNotFoundError",
          "evalue": "ignored",
          "traceback": [
            "\u001b[0;31m---------------------------------------------------------------------------\u001b[0m",
            "\u001b[0;31mFileNotFoundError\u001b[0m                         Traceback (most recent call last)",
            "\u001b[0;32m<ipython-input-16-4bcc78c67d61>\u001b[0m in \u001b[0;36m<module>\u001b[0;34m\u001b[0m\n\u001b[0;32m----> 1\u001b[0;31m \u001b[0mf\u001b[0m \u001b[0;34m=\u001b[0m \u001b[0mopen\u001b[0m\u001b[0;34m(\u001b[0m\u001b[0;34m\"marvel.txt\"\u001b[0m\u001b[0;34m,\u001b[0m\u001b[0;34m\"r+\"\u001b[0m\u001b[0;34m)\u001b[0m\u001b[0;34m\u001b[0m\u001b[0;34m\u001b[0m\u001b[0m\n\u001b[0m\u001b[1;32m      2\u001b[0m \u001b[0mf\u001b[0m\u001b[0;34m.\u001b[0m\u001b[0mwrite\u001b[0m\u001b[0;34m(\u001b[0m\u001b[0;34m\"Wakanda Forever!!!!!!!! SIUUUUUUUUUUUUUUUUUUUUUUUUUUU!!!!\"\u001b[0m\u001b[0;34m)\u001b[0m\u001b[0;34m\u001b[0m\u001b[0;34m\u001b[0m\u001b[0m\n\u001b[1;32m      3\u001b[0m \u001b[0mf\u001b[0m\u001b[0;34m.\u001b[0m\u001b[0mclose\u001b[0m\u001b[0;34m(\u001b[0m\u001b[0;34m)\u001b[0m\u001b[0;34m\u001b[0m\u001b[0;34m\u001b[0m\u001b[0m\n\u001b[1;32m      4\u001b[0m \u001b[0;34m\u001b[0m\u001b[0m\n\u001b[1;32m      5\u001b[0m \u001b[0mf\u001b[0m \u001b[0;34m=\u001b[0m \u001b[0mopen\u001b[0m\u001b[0;34m(\u001b[0m\u001b[0;34m\"marvel.txt\"\u001b[0m\u001b[0;34m,\u001b[0m\u001b[0;34m\"r\"\u001b[0m\u001b[0;34m)\u001b[0m\u001b[0;34m\u001b[0m\u001b[0;34m\u001b[0m\u001b[0m\n",
            "\u001b[0;31mFileNotFoundError\u001b[0m: [Errno 2] No such file or directory: 'marvel.txt'"
          ]
        }
      ]
    },
    {
      "cell_type": "markdown",
      "source": [
        "# Q8"
      ],
      "metadata": {
        "id": "QJEUIQOZeF-_"
      }
    },
    {
      "cell_type": "code",
      "source": [
        "def if_elif_else(n):\n",
        "  if(n<0):\n",
        "    print(\"Negative number!!\")\n",
        "  elif(n>0):\n",
        "    print(\"Positive number!!\")\n",
        "  else:\n",
        "    print(\"Zero!!\")\n",
        "\n",
        "if_elif_else(10)\n",
        "if_elif_else(-40)\n",
        "if_elif_else(0)"
      ],
      "metadata": {
        "colab": {
          "base_uri": "https://localhost:8080/"
        },
        "id": "yVjPWxSSeHzW",
        "outputId": "26874918-164e-4e57-a616-17d568a92455"
      },
      "execution_count": null,
      "outputs": [
        {
          "output_type": "stream",
          "name": "stdout",
          "text": [
            "Positive number!!\n",
            "Negative number!!\n",
            "Zero!!\n"
          ]
        }
      ]
    },
    {
      "cell_type": "code",
      "source": [
        "def for_while(n):\n",
        "  for i in range(n):\n",
        "    print(n-i,end=\" \")\n",
        "\n",
        "  print()\n",
        "\n",
        "  while(n>0):\n",
        "    n-=1\n",
        "    if(n==5):\n",
        "      continue\n",
        "    elif(n==2):\n",
        "      break\n",
        "    print(n,end=\" \")\n",
        "  \n",
        "for_while(10)"
      ],
      "metadata": {
        "colab": {
          "base_uri": "https://localhost:8080/"
        },
        "id": "J4U5fM1WeoHq",
        "outputId": "61d8ec3b-fecd-455e-dd5e-cb2601ca8ad5"
      },
      "execution_count": null,
      "outputs": [
        {
          "output_type": "stream",
          "name": "stdout",
          "text": [
            "10 9 8 7 6 5 4 3 2 1 \n",
            "9 8 7 6 4 3 "
          ]
        }
      ]
    },
    {
      "cell_type": "markdown",
      "source": [
        "# Q9"
      ],
      "metadata": {
        "id": "S5CHBQs5f2Ia"
      }
    },
    {
      "cell_type": "code",
      "source": [
        "a = \"The King is dead, Long Live the King\"\n",
        "\n",
        "print(a)\n",
        "print(a[0])\n",
        "print(a[2:5])\n",
        "print(a[2:])\n",
        "\n",
        "print(a.split())\n",
        "print(a.split(\"i\"))"
      ],
      "metadata": {
        "colab": {
          "base_uri": "https://localhost:8080/"
        },
        "id": "UeuReD0ef3nk",
        "outputId": "1c23eea3-f338-4d7d-9ec4-3ff64b4352e7"
      },
      "execution_count": null,
      "outputs": [
        {
          "output_type": "stream",
          "name": "stdout",
          "text": [
            "The King is dead, Long Live the King\n",
            "T\n",
            "e K\n",
            "e King is dead, Long Live the King\n",
            "['The', 'King', 'is', 'dead,', 'Long', 'Live', 'the', 'King']\n",
            "['The K', 'ng ', 's dead, Long L', 've the K', 'ng']\n"
          ]
        }
      ]
    },
    {
      "cell_type": "markdown",
      "source": [
        "# Q10"
      ],
      "metadata": {
        "id": "vf59_iUGgZhL"
      }
    },
    {
      "cell_type": "code",
      "source": [
        "import numpy as np\n",
        "\n",
        "a = [1.0,4.0,5.0,8.0]\n",
        "print(type(a))\n",
        "\n",
        "a = np.array(list(map(int,a)))\n",
        "print(type(a))\n",
        "\n",
        "print(a[:2])"
      ],
      "metadata": {
        "colab": {
          "base_uri": "https://localhost:8080/"
        },
        "id": "gCVrk6JMga-E",
        "outputId": "a03b987a-bcf9-4b0d-c0f9-651c4f4fe29c"
      },
      "execution_count": null,
      "outputs": [
        {
          "output_type": "stream",
          "name": "stdout",
          "text": [
            "<class 'list'>\n",
            "<class 'numpy.ndarray'>\n",
            "[1 4]\n"
          ]
        }
      ]
    },
    {
      "cell_type": "markdown",
      "source": [
        "# Q11"
      ],
      "metadata": {
        "id": "6P7Gz69YirNS"
      }
    },
    {
      "cell_type": "code",
      "source": [
        "import numpy as np\n",
        "\n",
        "a = [1,2,3,4,5,6]\n",
        "\n",
        "a = np.array(a)\n",
        "a = a.reshape(2,3)\n",
        "print(a)\n"
      ],
      "metadata": {
        "colab": {
          "base_uri": "https://localhost:8080/"
        },
        "id": "5G2k7u12isuT",
        "outputId": "409383aa-dce7-4b78-819b-6e0108f820d0"
      },
      "execution_count": null,
      "outputs": [
        {
          "output_type": "stream",
          "name": "stdout",
          "text": [
            "[[1 2 3]\n",
            " [4 5 6]]\n"
          ]
        }
      ]
    },
    {
      "cell_type": "markdown",
      "source": [
        "# Q12"
      ],
      "metadata": {
        "id": "brFJlzhXjHpL"
      }
    },
    {
      "cell_type": "code",
      "source": [
        "import numpy as np\n",
        "\n",
        "a = [1,2,3,4,5,6]\n",
        "\n",
        "a = np.array(a)\n",
        "a = a.reshape(2,3)\n",
        "\n",
        "print(a[1])\n",
        "\n",
        "print(\"[\",end=\"\")\n",
        "for i in a:\n",
        "  for j in i:\n",
        "    print(j,end=\"., \")\n",
        "print(\"]\")\n",
        "\n",
        "print(a.shape)\n",
        "print(len(a))"
      ],
      "metadata": {
        "colab": {
          "base_uri": "https://localhost:8080/"
        },
        "id": "KgDDQ4nfjJBs",
        "outputId": "4a743fae-f021-45ca-88f5-3dea699de8ba"
      },
      "execution_count": null,
      "outputs": [
        {
          "output_type": "stream",
          "name": "stdout",
          "text": [
            "[4 5 6]\n",
            "[1., 2., 3., 4., 5., 6., ]\n",
            "(2, 3)\n",
            "2\n"
          ]
        }
      ]
    },
    {
      "cell_type": "markdown",
      "source": [
        "# Q13"
      ],
      "metadata": {
        "id": "WaZiudWCkcSO"
      }
    },
    {
      "cell_type": "code",
      "source": [
        "import numpy as np\n",
        "\n",
        "n = 10\n",
        "a = np.array(np.arange(1,n+1))\n",
        "print(a)\n",
        "\n",
        "a = a.reshape(2,5)\n",
        "print(a)\n",
        "\n",
        "a = a.transpose()\n",
        "print(a)"
      ],
      "metadata": {
        "colab": {
          "base_uri": "https://localhost:8080/"
        },
        "id": "wAXJwaEhkdrT",
        "outputId": "b1a257a4-c984-4054-c681-615d15e0ff6d"
      },
      "execution_count": null,
      "outputs": [
        {
          "output_type": "stream",
          "name": "stdout",
          "text": [
            "[ 1  2  3  4  5  6  7  8  9 10]\n",
            "[[ 1  2  3  4  5]\n",
            " [ 6  7  8  9 10]]\n",
            "[[ 1  6]\n",
            " [ 2  7]\n",
            " [ 3  8]\n",
            " [ 4  9]\n",
            " [ 5 10]]\n"
          ]
        }
      ]
    },
    {
      "cell_type": "markdown",
      "source": [
        "# Q14"
      ],
      "metadata": {
        "id": "u9-NR7b1lWDS"
      }
    },
    {
      "cell_type": "code",
      "source": [
        "import numpy as np\n",
        "\n",
        "a = [1,2,3]\n",
        "a = np.array(a)\n",
        "\n",
        "print(type(a))\n",
        "print(a)"
      ],
      "metadata": {
        "colab": {
          "base_uri": "https://localhost:8080/"
        },
        "id": "uhFL9XqXlXuz",
        "outputId": "5d504fb5-5453-4b39-ff14-efd3570c8678"
      },
      "execution_count": null,
      "outputs": [
        {
          "output_type": "stream",
          "name": "stdout",
          "text": [
            "<class 'numpy.ndarray'>\n",
            "[1 2 3]\n"
          ]
        }
      ]
    },
    {
      "cell_type": "markdown",
      "source": [
        "# Q15"
      ],
      "metadata": {
        "id": "Jdj11FaSloXF"
      }
    },
    {
      "cell_type": "code",
      "source": [
        "import numpy as np\n",
        "\n",
        "a = [1,2,3]\n",
        "a.append([9,9,9])\n",
        "print(a)"
      ],
      "metadata": {
        "colab": {
          "base_uri": "https://localhost:8080/"
        },
        "id": "Aj8wxmWJlqC5",
        "outputId": "2273fd92-1662-4669-dcf5-319d45343117"
      },
      "execution_count": null,
      "outputs": [
        {
          "output_type": "stream",
          "name": "stdout",
          "text": [
            "[1, 2, 3, [9, 9, 9]]\n"
          ]
        }
      ]
    },
    {
      "cell_type": "markdown",
      "source": [
        "# Q16"
      ],
      "metadata": {
        "id": "s8QKCnRvmFgB"
      }
    },
    {
      "cell_type": "code",
      "source": [
        "a = [2,4,5]\n",
        "\n",
        "sum = 0\n",
        "\n",
        "for i in a:\n",
        "  sum+=i\n",
        "\n",
        "print(sum)"
      ],
      "metadata": {
        "colab": {
          "base_uri": "https://localhost:8080/"
        },
        "id": "hkLqLsGTmHAc",
        "outputId": "94b4d1f4-215a-4c4d-d849-4c423c48bed1"
      },
      "execution_count": null,
      "outputs": [
        {
          "output_type": "stream",
          "name": "stdout",
          "text": [
            "11\n"
          ]
        }
      ]
    },
    {
      "cell_type": "markdown",
      "source": [
        "# Q17"
      ],
      "metadata": {
        "id": "gcrldT1smP60"
      }
    },
    {
      "cell_type": "code",
      "source": [
        "a = [77,74,75]\n",
        "\n",
        "prod = 1\n",
        "\n",
        "for i in a:\n",
        "  prod*=i\n",
        "\n",
        "print(prod)"
      ],
      "metadata": {
        "colab": {
          "base_uri": "https://localhost:8080/"
        },
        "id": "ewp6ILStmQ8m",
        "outputId": "b248d290-bc29-4bd4-bf53-72c68d0a2224"
      },
      "execution_count": null,
      "outputs": [
        {
          "output_type": "stream",
          "name": "stdout",
          "text": [
            "427350\n"
          ]
        }
      ]
    },
    {
      "cell_type": "markdown",
      "source": [
        "# Q18"
      ],
      "metadata": {
        "id": "y0pappZ4mhUN"
      }
    },
    {
      "cell_type": "code",
      "source": [
        "import numpy as np\n",
        "\n",
        "a = [2,1,9,1,2,22,1,1,4,55,6,2,56]\n",
        "\n",
        "print(np.mean(a))\n",
        "print(np.var(a))\n",
        "print(max(a))\n",
        "print(min(a))\n",
        "print(np.argmin(a))\n",
        "#print(np.median(a))\n",
        "print(a[(len(a)+1)//2])\n",
        "print(np.argmax(a))\n",
        "print(np.std(a))"
      ],
      "metadata": {
        "colab": {
          "base_uri": "https://localhost:8080/"
        },
        "id": "f7NRwqQgmi9R",
        "outputId": "8d03d65b-9cde-421f-f403-99ce1c3724f5"
      },
      "execution_count": null,
      "outputs": [
        {
          "output_type": "stream",
          "name": "stdout",
          "text": [
            "12.461538461538462\n",
            "367.32544378698225\n",
            "56\n",
            "1\n",
            "1\n",
            "1\n",
            "12\n",
            "19.165736192147232\n"
          ]
        }
      ]
    },
    {
      "cell_type": "markdown",
      "source": [
        "# Q19"
      ],
      "metadata": {
        "id": "LJKHGfUvsdig"
      }
    },
    {
      "cell_type": "code",
      "source": [
        "import numpy as np\n",
        "\n",
        "a = [1, 1, 4, 5, 5, 5, 7]\n",
        "\n",
        "a = np.array(a)\n",
        "\n",
        "b = np.unique(a)\n",
        "print(a)\n",
        "print(b)\n",
        "\n",
        "np.sort(b)\n",
        "print(b)"
      ],
      "metadata": {
        "colab": {
          "base_uri": "https://localhost:8080/"
        },
        "id": "PNsBDMiMsem4",
        "outputId": "a035ed83-912d-46d7-9653-fbe71db6fdf5"
      },
      "execution_count": null,
      "outputs": [
        {
          "output_type": "stream",
          "name": "stdout",
          "text": [
            "[1 1 4 5 5 5 7]\n",
            "[1 4 5 7]\n",
            "[1 4 5 7]\n"
          ]
        }
      ]
    },
    {
      "cell_type": "markdown",
      "source": [
        "# Q20"
      ],
      "metadata": {
        "id": "-Q3YevCmuTUi"
      }
    },
    {
      "cell_type": "code",
      "source": [
        "import numpy as np\n",
        "\n",
        "a = [1,2,3]\n",
        "b = [0,1,1]\n",
        "\n",
        "print(np.dot(a,b))"
      ],
      "metadata": {
        "colab": {
          "base_uri": "https://localhost:8080/"
        },
        "id": "pkWhJ0FruUhr",
        "outputId": "1afeb285-6b35-4fc3-c644-dda526e2e917"
      },
      "execution_count": null,
      "outputs": [
        {
          "output_type": "stream",
          "name": "stdout",
          "text": [
            "5\n"
          ]
        }
      ]
    },
    {
      "cell_type": "markdown",
      "source": [
        "# Q21"
      ],
      "metadata": {
        "id": "07Njk7rZur9X"
      }
    },
    {
      "cell_type": "code",
      "source": [
        "import numpy as np\n",
        "\n",
        "a = np.array([[2,-12],[1,-5]])\n",
        "w,v = np.linalg.eig(a)\n",
        "print(w)\n",
        "print(v)"
      ],
      "metadata": {
        "colab": {
          "base_uri": "https://localhost:8080/"
        },
        "id": "XxCa6iemutNF",
        "outputId": "0f76a555-40fa-47e1-fb94-230328b5bda8"
      },
      "execution_count": null,
      "outputs": [
        {
          "output_type": "stream",
          "name": "stdout",
          "text": [
            "[-1. -2.]\n",
            "[[0.9701425  0.9486833 ]\n",
            " [0.24253563 0.31622777]]\n"
          ]
        }
      ]
    },
    {
      "cell_type": "markdown",
      "source": [
        "# Q22"
      ],
      "metadata": {
        "id": "Jf4wJ_7fwgZR"
      }
    },
    {
      "cell_type": "code",
      "source": [
        "import numpy as np\n",
        "\n",
        "a = [11, 22, 11, 31]\n",
        "b = [25, 33, 31, 28]\n",
        "\n",
        "print(np.corrcoef(a,b))"
      ],
      "metadata": {
        "colab": {
          "base_uri": "https://localhost:8080/"
        },
        "id": "npDD5g9Twiip",
        "outputId": "373003ef-f93f-4751-8346-c611a7cba045"
      },
      "execution_count": null,
      "outputs": [
        {
          "output_type": "stream",
          "name": "stdout",
          "text": [
            "[[1.         0.15997968]\n",
            " [0.15997968 1.        ]]\n"
          ]
        }
      ]
    }
  ]
}